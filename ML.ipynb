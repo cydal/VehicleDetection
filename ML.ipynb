{
 "cells": [
  {
   "cell_type": "code",
   "execution_count": 1,
   "metadata": {
    "collapsed": true
   },
   "outputs": [],
   "source": [
    "import matplotlib.image as mpimg\n",
    "import matplotlib.pyplot as plt\n",
    "import numpy as np\n",
    "import cv2\n",
    "import glob\n",
    "import time\n",
    "import pickle\n",
    "from sklearn.ensemble import GradientBoostingClassifier\n",
    "from skimage.feature import hog\n",
    "from sklearn.model_selection import train_test_split\n",
    "import glob2\n",
    "%matplotlib inline"
   ]
  },
  {
   "cell_type": "code",
   "execution_count": 2,
   "metadata": {
    "collapsed": true
   },
   "outputs": [],
   "source": [
    "cars = glob2.glob('vehicles\\**\\*.png')\n",
    "notcars = glob2.glob('non-vehicles\\**\\*.png')"
   ]
  },
  {
   "cell_type": "code",
   "execution_count": 48,
   "metadata": {
    "collapsed": true
   },
   "outputs": [],
   "source": [
    "### TODO: Tweak these parameters and see how the results change.\n",
    "color_space = 'YUV' # Can be RGB, HSV, LUV, HLS, YUV, YCrCb\n",
    "orient = 9  # HOG orientations\n",
    "pix_per_cell = 8 # HOG pixels per cell\n",
    "cell_per_block = 2 # HOG cells per block\n",
    "hog_channel = \"ALL\" # Can be 0, 1, 2, or \"ALL\"\n",
    "spatial_size = (14, 14) # Spatial binning dimensions\n",
    "hist_bins = 16    # Number of histogram bins\n",
    "spatial_feat = True # Spatial features on or off\n",
    "hist_feat = True # Histogram features on or off\n",
    "hog_feat = True # HOG features on or off\n",
    "y_start_stop = [None, None] # Min and max in y to search in slide_window()"
   ]
  },
  {
   "cell_type": "code",
   "execution_count": 4,
   "metadata": {
    "collapsed": true
   },
   "outputs": [],
   "source": []
  },
  {
   "cell_type": "code",
   "execution_count": 4,
   "metadata": {
    "collapsed": true
   },
   "outputs": [],
   "source": [
    "# Define a function to return HOG features and visualization\n",
    "def get_hog_features(img, orient, pix_per_cell, cell_per_block, \n",
    "                        vis=False, feature_vec=True):\n",
    "    # Call with two outputs if vis==True\n",
    "    if vis == True:\n",
    "        features, hog_image = hog(img, orientations=orient, \n",
    "                                  pixels_per_cell=(pix_per_cell, pix_per_cell),\n",
    "                                  cells_per_block=(cell_per_block, cell_per_block), \n",
    "                                  transform_sqrt=True, \n",
    "                                  visualise=vis, feature_vector=feature_vec)\n",
    "        return features, hog_image\n",
    "    # Otherwise call with one output\n",
    "    else:      \n",
    "        features = hog(img, orientations=orient, \n",
    "                       pixels_per_cell=(pix_per_cell, pix_per_cell),\n",
    "                       cells_per_block=(cell_per_block, cell_per_block), \n",
    "                       transform_sqrt=True, \n",
    "                       visualise=vis, feature_vector=feature_vec)\n",
    "        return features"
   ]
  },
  {
   "cell_type": "code",
   "execution_count": null,
   "metadata": {
    "collapsed": false
   },
   "outputs": [],
   "source": []
  },
  {
   "cell_type": "code",
   "execution_count": 9,
   "metadata": {
    "collapsed": true
   },
   "outputs": [],
   "source": [
    "alldata = {}"
   ]
  },
  {
   "cell_type": "code",
   "execution_count": 10,
   "metadata": {
    "collapsed": false
   },
   "outputs": [],
   "source": []
  },
  {
   "cell_type": "code",
   "execution_count": 11,
   "metadata": {
    "collapsed": true
   },
   "outputs": [],
   "source": []
  },
  {
   "cell_type": "code",
   "execution_count": 63,
   "metadata": {
    "collapsed": false
   },
   "outputs": [
    {
     "data": {
      "text/plain": [
       "(64, 64, 3)"
      ]
     },
     "execution_count": 63,
     "metadata": {},
     "output_type": "execute_result"
    }
   ],
   "source": []
  },
  {
   "cell_type": "code",
   "execution_count": 85,
   "metadata": {
    "collapsed": false
   },
   "outputs": [],
   "source": [
    "alldata = {}\n",
    "\n",
    "## HOG Features\n",
    "features = []\n",
    "for file in cars:\n",
    "    image = mpimg.imread(file)\n",
    "    feature_image = cv2.cvtColor(image, cv2.COLOR_RGB2YCrCb)\n",
    "    \n",
    "    hog_features = []\n",
    "    for channel in range(feature_image.shape[2]):\n",
    "        hog_features.append(get_hog_features(feature_image[:,:,channel], \n",
    "                            orient, pix_per_cell, cell_per_block, \n",
    "                            vis=False, feature_vec=True))\n",
    "    hog_features = np.ravel(hog_features)   \n",
    "    features.append(hog_features)\n",
    "    \n",
    "    \n",
    "    \n",
    "\n",
    "    \n",
    "for file in notcars:\n",
    "    image = mpimg.imread(file)\n",
    "    feature_image = cv2.cvtColor(image, cv2.COLOR_RGB2YCrCb)\n",
    "    \n",
    "    hog_features = []\n",
    "    for channel in range(feature_image.shape[2]):\n",
    "        hog_features.append(get_hog_features(feature_image[:,:,channel], \n",
    "                            orient, pix_per_cell, cell_per_block, \n",
    "                            vis=False, feature_vec=True))\n",
    "    hog_features = np.ravel(hog_features)   \n",
    "    features.append(hog_features)\n",
    "    \n",
    "alldata[\"hogfeatures\"] = features"
   ]
  },
  {
   "cell_type": "code",
   "execution_count": 86,
   "metadata": {
    "collapsed": false
   },
   "outputs": [],
   "source": [
    "y = np.hstack((np.ones(len(cars)), np.zeros(len(notcars))))\n",
    "alldata[\"label\"] = y"
   ]
  },
  {
   "cell_type": "code",
   "execution_count": 87,
   "metadata": {
    "collapsed": false
   },
   "outputs": [],
   "source": [
    "for each in alldata.keys():\n",
    "    alldata[each] = np.array(alldata[each])"
   ]
  },
  {
   "cell_type": "code",
   "execution_count": null,
   "metadata": {
    "collapsed": false
   },
   "outputs": [],
   "source": [
    "pickle.dump( alldata, open( \"Data.p\", \"wb\" ) )"
   ]
  },
  {
   "cell_type": "code",
   "execution_count": 88,
   "metadata": {
    "collapsed": false
   },
   "outputs": [
    {
     "data": {
      "text/plain": [
       "(17760, 5292)"
      ]
     },
     "execution_count": 88,
     "metadata": {},
     "output_type": "execute_result"
    }
   ],
   "source": [
    "features = np.array(features)\n",
    "features.shape"
   ]
  },
  {
   "cell_type": "code",
   "execution_count": 89,
   "metadata": {
    "collapsed": false
   },
   "outputs": [],
   "source": [
    "from sklearn.model_selection import StratifiedShuffleSplit\n",
    "\n",
    "sss = StratifiedShuffleSplit(n_splits=1, test_size=0.2, random_state=42)\n",
    "\n",
    "for train_idx, test_idx in sss.split(features, y):\n",
    "    \n",
    "    X_train, X_test = features[train_idx], features[test_idx]\n",
    "    \n",
    "    y_train, y_test = y[train_idx], y[test_idx]"
   ]
  },
  {
   "cell_type": "code",
   "execution_count": 5,
   "metadata": {
    "collapsed": true
   },
   "outputs": [],
   "source": [
    "data = pickle.load( open( \"Data.p\", \"rb\" ) )"
   ]
  },
  {
   "cell_type": "code",
   "execution_count": 59,
   "metadata": {
    "collapsed": true
   },
   "outputs": [],
   "source": [
    "modeldata = {}\n",
    "\n",
    "modeldata[\"binpca\"] = binpca\n",
    "\n",
    "modeldata[\"hogpca\"] = hogpca\n",
    "\n",
    "pickle.dump( modeldata, open( \"models.p\", \"wb\" ) )"
   ]
  },
  {
   "cell_type": "code",
   "execution_count": 14,
   "metadata": {
    "collapsed": true
   },
   "outputs": [],
   "source": [
    "import sys\n",
    "sys.path.append(\"C:/xgboost/python-package\")\n",
    "\n",
    "import xgboost as xgb"
   ]
  },
  {
   "cell_type": "code",
   "execution_count": 90,
   "metadata": {
    "collapsed": true
   },
   "outputs": [],
   "source": [
    "dtrain = xgb.DMatrix(X_train, label=y_train)\n",
    "dtest = xgb.DMatrix(X_test, label=y_test)"
   ]
  },
  {
   "cell_type": "code",
   "execution_count": 27,
   "metadata": {
    "collapsed": true
   },
   "outputs": [],
   "source": [
    "dtrain = xgb.DMatrix(features, label=y)\n"
   ]
  },
  {
   "cell_type": "code",
   "execution_count": 91,
   "metadata": {
    "collapsed": false
   },
   "outputs": [
    {
     "name": "stdout",
     "output_type": "stream",
     "text": [
      "[0]\ttrain-error:0.179195\teval-error:0.185248\n",
      "Multiple eval metrics have been passed: 'eval-error' will be used for early stopping.\n",
      "\n",
      "Will train until eval-error hasn't improved in 10 rounds.\n",
      "[1]\ttrain-error:0.141258\teval-error:0.155124\n",
      "[2]\ttrain-error:0.111486\teval-error:0.118806\n",
      "[3]\ttrain-error:0.096073\teval-error:0.104167\n",
      "[4]\ttrain-error:0.083756\teval-error:0.08643\n",
      "[5]\ttrain-error:0.07714\teval-error:0.080236\n",
      "[6]\ttrain-error:0.068623\teval-error:0.073761\n",
      "[7]\ttrain-error:0.063274\teval-error:0.072635\n",
      "[8]\ttrain-error:0.057432\teval-error:0.060248\n",
      "[9]\ttrain-error:0.051872\teval-error:0.058559\n",
      "[10]\ttrain-error:0.049831\teval-error:0.061092\n",
      "[11]\ttrain-error:0.046382\teval-error:0.055743\n",
      "[12]\ttrain-error:0.042722\teval-error:0.052928\n",
      "[13]\ttrain-error:0.039062\teval-error:0.046171\n",
      "[14]\ttrain-error:0.036599\teval-error:0.043637\n",
      "[15]\ttrain-error:0.033713\teval-error:0.041667\n",
      "[16]\ttrain-error:0.031602\teval-error:0.040259\n",
      "[17]\ttrain-error:0.028998\teval-error:0.040822\n",
      "[18]\ttrain-error:0.026745\teval-error:0.039133\n",
      "[19]\ttrain-error:0.025831\teval-error:0.037444\n",
      "[20]\ttrain-error:0.023438\teval-error:0.034065\n",
      "[21]\ttrain-error:0.023438\teval-error:0.034065\n",
      "[22]\ttrain-error:0.021396\teval-error:0.034065\n",
      "[23]\ttrain-error:0.020411\teval-error:0.035191\n",
      "[24]\ttrain-error:0.019426\teval-error:0.033221\n",
      "[25]\ttrain-error:0.017103\teval-error:0.032658\n",
      "[26]\ttrain-error:0.016751\teval-error:0.031532\n",
      "[27]\ttrain-error:0.015766\teval-error:0.030968\n",
      "[28]\ttrain-error:0.013865\teval-error:0.033221\n",
      "[29]\ttrain-error:0.013302\teval-error:0.033221\n",
      "[30]\ttrain-error:0.011754\teval-error:0.032939\n",
      "[31]\ttrain-error:0.01112\teval-error:0.032939\n",
      "[32]\ttrain-error:0.010135\teval-error:0.032376\n",
      "[33]\ttrain-error:0.009079\teval-error:0.032939\n",
      "[34]\ttrain-error:0.008516\teval-error:0.031813\n",
      "[35]\ttrain-error:0.007461\teval-error:0.03125\n",
      "[36]\ttrain-error:0.007109\teval-error:0.029561\n",
      "[37]\ttrain-error:0.006123\teval-error:0.029842\n",
      "[38]\ttrain-error:0.005349\teval-error:0.029842\n",
      "[39]\ttrain-error:0.004856\teval-error:0.030405\n",
      "[40]\ttrain-error:0.004505\teval-error:0.029561\n",
      "[41]\ttrain-error:0.004082\teval-error:0.030124\n",
      "[42]\ttrain-error:0.00359\teval-error:0.029842\n",
      "[43]\ttrain-error:0.003097\teval-error:0.028998\n",
      "[44]\ttrain-error:0.003097\teval-error:0.028716\n",
      "[45]\ttrain-error:0.002463\teval-error:0.026182\n",
      "[46]\ttrain-error:0.002041\teval-error:0.02759\n",
      "[47]\ttrain-error:0.001619\teval-error:0.027872\n",
      "[48]\ttrain-error:0.001478\teval-error:0.02759\n",
      "[49]\ttrain-error:0.001197\teval-error:0.026745\n",
      "[50]\ttrain-error:0.001056\teval-error:0.026182\n",
      "[51]\ttrain-error:0.000845\teval-error:0.025338\n",
      "[52]\ttrain-error:0.000845\teval-error:0.026464\n",
      "[53]\ttrain-error:0.000493\teval-error:0.025901\n",
      "[54]\ttrain-error:0.000493\teval-error:0.026182\n",
      "[55]\ttrain-error:0.000211\teval-error:0.025901\n",
      "[56]\ttrain-error:7e-05\teval-error:0.025338\n",
      "[57]\ttrain-error:7e-05\teval-error:0.026464\n",
      "[58]\ttrain-error:0\teval-error:0.026182\n",
      "[59]\ttrain-error:0\teval-error:0.026464\n",
      "[60]\ttrain-error:0\teval-error:0.026464\n",
      "[61]\ttrain-error:0\teval-error:0.025901\n",
      "Stopping. Best iteration:\n",
      "[51]\ttrain-error:0.000845\teval-error:0.025338\n",
      "\n"
     ]
    }
   ],
   "source": [
    "param = {'max_depth':2, 'eta':1, 'silent':1, 'objective':'binary:logistic' }\n",
    "watchlist  = [(dtrain,'train'), (dtest,'eval')]\n",
    "num_round = 155\n",
    "bst = xgb.train(param, dtrain, num_round, watchlist, early_stopping_rounds=10)\n",
    "#bst = xgb.train(param, dtrain, num_round)"
   ]
  },
  {
   "cell_type": "code",
   "execution_count": 92,
   "metadata": {
    "collapsed": false
   },
   "outputs": [
    {
     "data": {
      "text/plain": [
       "array([0, 0, 0, ..., 0, 1, 1])"
      ]
     },
     "execution_count": 92,
     "metadata": {},
     "output_type": "execute_result"
    }
   ],
   "source": [
    "pred = bst.predict(dtest)\n",
    "predictions = (pred > 0.5) * 1\n",
    "predictions"
   ]
  },
  {
   "cell_type": "code",
   "execution_count": 93,
   "metadata": {
    "collapsed": false
   },
   "outputs": [
    {
     "data": {
      "text/plain": [
       "0.97409909909909909"
      ]
     },
     "execution_count": 93,
     "metadata": {},
     "output_type": "execute_result"
    }
   ],
   "source": [
    "from sklearn.metrics import accuracy_score\n",
    "accuracy_score(y_test, predictions)"
   ]
  },
  {
   "cell_type": "code",
   "execution_count": 94,
   "metadata": {
    "collapsed": true
   },
   "outputs": [],
   "source": [
    "bst.save_model(\"xgbcrb.model\")"
   ]
  },
  {
   "cell_type": "code",
   "execution_count": 74,
   "metadata": {
    "collapsed": false
   },
   "outputs": [],
   "source": [
    "fscore = bst.get_fscore()"
   ]
  },
  {
   "cell_type": "code",
   "execution_count": 75,
   "metadata": {
    "collapsed": false
   },
   "outputs": [
    {
     "data": {
      "text/plain": [
       "{'f1': 1,\n",
       " 'f1008': 1,\n",
       " 'f1016': 2,\n",
       " 'f1048': 1,\n",
       " 'f1062': 3,\n",
       " 'f1074': 1,\n",
       " 'f1075': 1,\n",
       " 'f1114': 1,\n",
       " 'f1138': 1,\n",
       " 'f1146': 1,\n",
       " 'f1148': 1,\n",
       " 'f1166': 1,\n",
       " 'f1174': 1,\n",
       " 'f1193': 1,\n",
       " 'f121': 2,\n",
       " 'f1210': 1,\n",
       " 'f1230': 1,\n",
       " 'f1232': 1,\n",
       " 'f1233': 1,\n",
       " 'f1234': 1,\n",
       " 'f1241': 3,\n",
       " 'f1255': 1,\n",
       " 'f1260': 1,\n",
       " 'f1268': 1,\n",
       " 'f1290': 1,\n",
       " 'f1305': 1,\n",
       " 'f132': 1,\n",
       " 'f1363': 1,\n",
       " 'f1372': 3,\n",
       " 'f1390': 1,\n",
       " 'f1395': 1,\n",
       " 'f1399': 2,\n",
       " 'f1400': 1,\n",
       " 'f1417': 1,\n",
       " 'f1421': 1,\n",
       " 'f1426': 1,\n",
       " 'f1431': 1,\n",
       " 'f1436': 1,\n",
       " 'f1455': 1,\n",
       " 'f146': 1,\n",
       " 'f1461': 1,\n",
       " 'f1476': 1,\n",
       " 'f1484': 1,\n",
       " 'f1485': 1,\n",
       " 'f1502': 1,\n",
       " 'f1507': 1,\n",
       " 'f1511': 2,\n",
       " 'f1512': 2,\n",
       " 'f1527': 1,\n",
       " 'f1533': 2,\n",
       " 'f1539': 1,\n",
       " 'f1542': 1,\n",
       " 'f1543': 1,\n",
       " 'f1552': 1,\n",
       " 'f1561': 1,\n",
       " 'f1575': 1,\n",
       " 'f1606': 1,\n",
       " 'f1608': 1,\n",
       " 'f1611': 1,\n",
       " 'f1623': 1,\n",
       " 'f1624': 2,\n",
       " 'f1627': 1,\n",
       " 'f1642': 2,\n",
       " 'f1647': 1,\n",
       " 'f1648': 1,\n",
       " 'f165': 1,\n",
       " 'f1651': 2,\n",
       " 'f1660': 1,\n",
       " 'f1661': 1,\n",
       " 'f1668': 1,\n",
       " 'f1677': 1,\n",
       " 'f168': 1,\n",
       " 'f1690': 1,\n",
       " 'f1710': 1,\n",
       " 'f1714': 1,\n",
       " 'f1724': 1,\n",
       " 'f1736': 1,\n",
       " 'f1760': 1,\n",
       " 'f1761': 1,\n",
       " 'f1792': 1,\n",
       " 'f184': 1,\n",
       " 'f1845': 2,\n",
       " 'f19': 1,\n",
       " 'f1900': 1,\n",
       " 'f1908': 1,\n",
       " 'f1946': 1,\n",
       " 'f1980': 1,\n",
       " 'f1988': 2,\n",
       " 'f1991': 1,\n",
       " 'f2006': 1,\n",
       " 'f2016': 1,\n",
       " 'f2018': 1,\n",
       " 'f2042': 1,\n",
       " 'f2069': 1,\n",
       " 'f2078': 1,\n",
       " 'f2093': 1,\n",
       " 'f2124': 1,\n",
       " 'f2150': 1,\n",
       " 'f2186': 1,\n",
       " 'f22': 1,\n",
       " 'f2222': 1,\n",
       " 'f2245': 1,\n",
       " 'f2277': 1,\n",
       " 'f2340': 1,\n",
       " 'f2346': 1,\n",
       " 'f2373': 1,\n",
       " 'f2385': 1,\n",
       " 'f241': 1,\n",
       " 'f2459': 1,\n",
       " 'f246': 1,\n",
       " 'f250': 1,\n",
       " 'f2502': 1,\n",
       " 'f2523': 1,\n",
       " 'f2528': 1,\n",
       " 'f253': 1,\n",
       " 'f2547': 1,\n",
       " 'f2549': 1,\n",
       " 'f2559': 1,\n",
       " 'f2561': 1,\n",
       " 'f257': 1,\n",
       " 'f2610': 1,\n",
       " 'f263': 1,\n",
       " 'f2636': 1,\n",
       " 'f2645': 1,\n",
       " 'f2655': 1,\n",
       " 'f2671': 1,\n",
       " 'f2672': 1,\n",
       " 'f2704': 1,\n",
       " 'f2727': 1,\n",
       " 'f2744': 1,\n",
       " 'f2753': 1,\n",
       " 'f2756': 1,\n",
       " 'f2760': 1,\n",
       " 'f2780': 1,\n",
       " 'f2816': 1,\n",
       " 'f2818': 1,\n",
       " 'f2835': 1,\n",
       " 'f2861': 1,\n",
       " 'f2883': 1,\n",
       " 'f2888': 1,\n",
       " 'f289': 1,\n",
       " 'f2893': 1,\n",
       " 'f2898': 1,\n",
       " 'f2924': 1,\n",
       " 'f293': 1,\n",
       " 'f2953': 1,\n",
       " 'f2969': 1,\n",
       " 'f3006': 2,\n",
       " 'f3026': 1,\n",
       " 'f303': 2,\n",
       " 'f3032': 1,\n",
       " 'f3077': 1,\n",
       " 'f308': 1,\n",
       " 'f3092': 1,\n",
       " 'f3123': 1,\n",
       " 'f3148': 1,\n",
       " 'f321': 1,\n",
       " 'f3243': 1,\n",
       " 'f3256': 1,\n",
       " 'f3257': 1,\n",
       " 'f3275': 1,\n",
       " 'f3288': 1,\n",
       " 'f3290': 1,\n",
       " 'f3292': 1,\n",
       " 'f3299': 1,\n",
       " 'f3331': 1,\n",
       " 'f3349': 1,\n",
       " 'f3367': 1,\n",
       " 'f3392': 1,\n",
       " 'f3441': 1,\n",
       " 'f3466': 1,\n",
       " 'f3484': 1,\n",
       " 'f349': 1,\n",
       " 'f3508': 1,\n",
       " 'f3515': 1,\n",
       " 'f3527': 1,\n",
       " 'f3563': 1,\n",
       " 'f3583': 1,\n",
       " 'f3591': 1,\n",
       " 'f3594': 1,\n",
       " 'f3678': 1,\n",
       " 'f3686': 1,\n",
       " 'f3687': 1,\n",
       " 'f3749': 1,\n",
       " 'f3779': 1,\n",
       " 'f382': 1,\n",
       " 'f3821': 1,\n",
       " 'f3842': 1,\n",
       " 'f3860': 1,\n",
       " 'f3869': 1,\n",
       " 'f391': 2,\n",
       " 'f3960': 1,\n",
       " 'f3986': 1,\n",
       " 'f3994': 1,\n",
       " 'f4': 1,\n",
       " 'f4031': 1,\n",
       " 'f41': 1,\n",
       " 'f4120': 1,\n",
       " 'f4144': 1,\n",
       " 'f4158': 1,\n",
       " 'f4166': 2,\n",
       " 'f4181': 1,\n",
       " 'f4210': 1,\n",
       " 'f4212': 1,\n",
       " 'f4227': 1,\n",
       " 'f4286': 1,\n",
       " 'f4300': 1,\n",
       " 'f4301': 1,\n",
       " 'f432': 1,\n",
       " 'f4323': 1,\n",
       " 'f4327': 1,\n",
       " 'f4337': 1,\n",
       " 'f4347': 1,\n",
       " 'f435': 1,\n",
       " 'f4486': 1,\n",
       " 'f4517': 2,\n",
       " 'f4530': 1,\n",
       " 'f4544': 1,\n",
       " 'f4580': 1,\n",
       " 'f4588': 1,\n",
       " 'f4762': 1,\n",
       " 'f4769': 1,\n",
       " 'f4796': 1,\n",
       " 'f4814': 1,\n",
       " 'f4831': 1,\n",
       " 'f4843': 1,\n",
       " 'f4859': 1,\n",
       " 'f4868': 1,\n",
       " 'f4874': 1,\n",
       " 'f489': 1,\n",
       " 'f4904': 1,\n",
       " 'f493': 1,\n",
       " 'f495': 1,\n",
       " 'f5001': 1,\n",
       " 'f5020': 1,\n",
       " 'f5021': 1,\n",
       " 'f5035': 1,\n",
       " 'f5044': 1,\n",
       " 'f5058': 1,\n",
       " 'f5061': 1,\n",
       " 'f5066': 1,\n",
       " 'f5072': 1,\n",
       " 'f510': 1,\n",
       " 'f5102': 1,\n",
       " 'f5103': 1,\n",
       " 'f5108': 1,\n",
       " 'f5113': 1,\n",
       " 'f5215': 1,\n",
       " 'f5228': 1,\n",
       " 'f523': 1,\n",
       " 'f5233': 1,\n",
       " 'f5250': 1,\n",
       " 'f5251': 1,\n",
       " 'f5257': 1,\n",
       " 'f5277': 1,\n",
       " 'f5279': 1,\n",
       " 'f5291': 1,\n",
       " 'f541': 2,\n",
       " 'f552': 1,\n",
       " 'f559': 1,\n",
       " 'f583': 1,\n",
       " 'f589': 1,\n",
       " 'f59': 1,\n",
       " 'f613': 1,\n",
       " 'f616': 1,\n",
       " 'f64': 1,\n",
       " 'f663': 1,\n",
       " 'f685': 1,\n",
       " 'f686': 1,\n",
       " 'f731': 1,\n",
       " 'f733': 1,\n",
       " 'f735': 1,\n",
       " 'f739': 1,\n",
       " 'f742': 1,\n",
       " 'f755': 1,\n",
       " 'f757': 1,\n",
       " 'f76': 1,\n",
       " 'f778': 1,\n",
       " 'f79': 1,\n",
       " 'f794': 1,\n",
       " 'f795': 1,\n",
       " 'f805': 1,\n",
       " 'f813': 1,\n",
       " 'f831': 1,\n",
       " 'f849': 1,\n",
       " 'f859': 1,\n",
       " 'f860': 1,\n",
       " 'f864': 1,\n",
       " 'f868': 2,\n",
       " 'f877': 1,\n",
       " 'f913': 1,\n",
       " 'f931': 1,\n",
       " 'f940': 1,\n",
       " 'f947': 1,\n",
       " 'f949': 1,\n",
       " 'f951': 1,\n",
       " 'f976': 1,\n",
       " 'f988': 2}"
      ]
     },
     "execution_count": 75,
     "metadata": {},
     "output_type": "execute_result"
    }
   ],
   "source": [
    "fscore"
   ]
  },
  {
   "cell_type": "code",
   "execution_count": 19,
   "metadata": {
    "collapsed": false
   },
   "outputs": [
    {
     "name": "stdout",
     "output_type": "stream",
     "text": [
      "Using: 9 orientations 8 pixels per cell and 2 cells per block\n",
      "Feature vector length: 6108\n"
     ]
    }
   ],
   "source": [
    "\n",
    "print('Using:',orient,'orientations',pix_per_cell,\n",
    "    'pixels per cell and', cell_per_block,'cells per block')\n",
    "print('Feature vector length:', len(X_train[0]))"
   ]
  },
  {
   "cell_type": "code",
   "execution_count": null,
   "metadata": {
    "collapsed": true
   },
   "outputs": [],
   "source": [
    "# Get the estimator\n",
    "best_clf = grid_fit.best_estimator_"
   ]
  },
  {
   "cell_type": "code",
   "execution_count": 4,
   "metadata": {
    "collapsed": false
   },
   "outputs": [],
   "source": []
  },
  {
   "cell_type": "code",
   "execution_count": null,
   "metadata": {
    "collapsed": true
   },
   "outputs": [],
   "source": [
    "image.shape"
   ]
  }
 ],
 "metadata": {
  "anaconda-cloud": {},
  "kernelspec": {
   "display_name": "Python [conda root]",
   "language": "python",
   "name": "conda-root-py"
  },
  "language_info": {
   "codemirror_mode": {
    "name": "ipython",
    "version": 3
   },
   "file_extension": ".py",
   "mimetype": "text/x-python",
   "name": "python",
   "nbconvert_exporter": "python",
   "pygments_lexer": "ipython3",
   "version": "3.5.2"
  }
 },
 "nbformat": 4,
 "nbformat_minor": 2
}
