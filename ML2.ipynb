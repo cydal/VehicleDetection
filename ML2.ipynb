{
 "cells": [
  {
   "cell_type": "code",
   "execution_count": 1,
   "metadata": {
    "collapsed": true
   },
   "outputs": [],
   "source": [
    "import matplotlib.image as mpimg\n",
    "import matplotlib.pyplot as plt\n",
    "import numpy as np\n",
    "import cv2\n",
    "import glob\n",
    "import time\n",
    "import pickle\n",
    "from sklearn.ensemble import GradientBoostingClassifier\n",
    "from skimage.feature import hog\n",
    "from sklearn.model_selection import train_test_split\n",
    "import glob2\n",
    "%matplotlib inline\n",
    "from sklearn.preprocessing import MinMaxScaler\n",
    "\n",
    "\n",
    "import sys\n",
    "sys.path.append(\"C:/xgboost/python-package\")\n",
    "\n",
    "import xgboost as xgb"
   ]
  },
  {
   "cell_type": "code",
   "execution_count": 2,
   "metadata": {
    "collapsed": true
   },
   "outputs": [],
   "source": [
    "### TODO: Tweak these parameters and see how the results change.\n",
    "color_space = 'YUV' # Can be RGB, HSV, LUV, HLS, YUV, YCrCb\n",
    "orient = 9  # HOG orientations\n",
    "pix_per_cell = 8 # HOG pixels per cell\n",
    "cell_per_block = 2 # HOG cells per block\n",
    "hog_channel = \"ALL\" # Can be 0, 1, 2, or \"ALL\"\n",
    "spatial_size = (14, 14) # Spatial binning dimensions\n",
    "hist_bins = 16    # Number of histogram bins\n",
    "spatial_feat = True # Spatial features on or off\n",
    "hist_feat = True # Histogram features on or off\n",
    "hog_feat = True # HOG features on or off\n",
    "y_start_stop = [None, None] # Min and max in y to search in slide_window()\n",
    "\n",
    "\n",
    "scaler = MinMaxScaler(feature_range=(0, 1), copy=True)"
   ]
  },
  {
   "cell_type": "code",
   "execution_count": 3,
   "metadata": {
    "collapsed": true
   },
   "outputs": [],
   "source": [
    "# Define a function to return HOG features and visualization\n",
    "def get_hog_features(img, orient, pix_per_cell, cell_per_block, \n",
    "                        vis=False, feature_vec=True):\n",
    "    # Call with two outputs if vis==True\n",
    "    if vis == True:\n",
    "        features, hog_image = hog(img, orientations=orient, \n",
    "                                  pixels_per_cell=(pix_per_cell, pix_per_cell),\n",
    "                                  cells_per_block=(cell_per_block, cell_per_block), \n",
    "                                  transform_sqrt=True, \n",
    "                                  visualise=vis, feature_vector=feature_vec)\n",
    "        return features, hog_image\n",
    "    # Otherwise call with one output\n",
    "    else:      \n",
    "        features = hog(img, orientations=orient, \n",
    "                       pixels_per_cell=(pix_per_cell, pix_per_cell),\n",
    "                       cells_per_block=(cell_per_block, cell_per_block), \n",
    "                       transform_sqrt=True, \n",
    "                       visualise=vis, feature_vector=feature_vec)\n",
    "        return features"
   ]
  },
  {
   "cell_type": "code",
   "execution_count": 4,
   "metadata": {
    "collapsed": true
   },
   "outputs": [],
   "source": [
    "def getHog(feature_image, orient=9, pix_per_cell=8, cell_per_block=2, hog_channel=0):\n",
    "    if hog_channel == 'ALL':\n",
    "        hog_features = []\n",
    "        for channel in range(feature_image.shape[2]):\n",
    "            hog_features.append(get_hog_features(feature_image[:,:,channel], \n",
    "                                orient, pix_per_cell, cell_per_block, \n",
    "                                vis=False, feature_vec=True))\n",
    "        hog_features = np.ravel(hog_features)        \n",
    "    else:\n",
    "        hog_features = get_hog_features(feature_image[:,:,hog_channel], orient, \n",
    "                    pix_per_cell, cell_per_block, vis=False, feature_vec=True)\n",
    "    # Append the new feature vector to the features list\n",
    "    return hog_features"
   ]
  },
  {
   "cell_type": "code",
   "execution_count": 5,
   "metadata": {
    "collapsed": false
   },
   "outputs": [],
   "source": [
    "def cspace(image, color_space='RGB'):\n",
    "    if color_space != 'RGB':\n",
    "        if color_space == 'HSV':\n",
    "            feature_image = cv2.cvtColor(image, cv2.COLOR_RGB2HSV)\n",
    "        elif color_space == 'LUV':\n",
    "            feature_image = cv2.cvtColor(image, cv2.COLOR_RGB2LUV)\n",
    "        elif color_space == 'HLS':\n",
    "            feature_image = cv2.cvtColor(image, cv2.COLOR_RGB2HLS)\n",
    "        elif color_space == 'YUV':\n",
    "            feature_image = cv2.cvtColor(image, cv2.COLOR_RGB2YUV)\n",
    "        elif color_space == 'YCrCb':\n",
    "            feature_image = cv2.cvtColor(image, cv2.COLOR_RGB2YCrCb)\n",
    "    else: feature_image = np.copy(image)    \n",
    "    return feature_image"
   ]
  },
  {
   "cell_type": "code",
   "execution_count": 6,
   "metadata": {
    "collapsed": true
   },
   "outputs": [],
   "source": [
    "cars = glob2.glob('vehicles\\**\\*.png')\n",
    "notcars = glob2.glob('non-vehicles\\**\\*.png')"
   ]
  },
  {
   "cell_type": "code",
   "execution_count": 7,
   "metadata": {
    "collapsed": true
   },
   "outputs": [],
   "source": [
    "def newSpace(image):\n",
    "    R = scaler.fit_transform(image[:, :, 0])\n",
    "    #B = scaler.fit_transform(image[:, :, 2])\n",
    "    Y = scaler.fit_transform(cspace(image, color_space='YCrCb')[:, :, 0])\n",
    "    L = scaler.fit_transform(cspace(image, color_space='HLS')[:, :, 0])\n",
    "    return np.dstack((R, Y, L))\n",
    "    \n",
    "    "
   ]
  },
  {
   "cell_type": "code",
   "execution_count": 8,
   "metadata": {
    "collapsed": false
   },
   "outputs": [],
   "source": [
    "alldata = {}\n",
    "\n",
    "## HOG Features\n",
    "features = []\n",
    "for file in cars:\n",
    "    image = mpimg.imread(file)\n",
    "    \n",
    "    feature_image = newSpace(image)\n",
    "    \n",
    "    hog_features = getHog(feature_image, hog_channel=1)\n",
    "    features.append(hog_features)\n",
    "    \n",
    "    \n",
    "\n",
    "    \n",
    "for file in notcars:\n",
    "    image = mpimg.imread(file)\n",
    "    \n",
    "    feature_image = newSpace(image)\n",
    "    \n",
    "    hog_features = getHog(feature_image, hog_channel=1)\n",
    "    features.append(hog_features)\n",
    "    \n",
    "alldata[\"hogfeatures\"] = features"
   ]
  },
  {
   "cell_type": "code",
   "execution_count": 9,
   "metadata": {
    "collapsed": false
   },
   "outputs": [
    {
     "data": {
      "text/plain": [
       "(17760, 1764)"
      ]
     },
     "execution_count": 9,
     "metadata": {},
     "output_type": "execute_result"
    }
   ],
   "source": [
    "y = np.hstack((np.ones(len(cars)), np.zeros(len(notcars))))\n",
    "alldata[\"label\"] = y\n",
    "\n",
    "for each in alldata.keys():\n",
    "    alldata[each] = np.array(alldata[each])\n",
    "    \n",
    "features = np.array(features)\n",
    "features.shape"
   ]
  },
  {
   "cell_type": "code",
   "execution_count": 10,
   "metadata": {
    "collapsed": true
   },
   "outputs": [],
   "source": [
    "from sklearn.model_selection import StratifiedShuffleSplit\n",
    "\n",
    "sss = StratifiedShuffleSplit(n_splits=1, test_size=0.2, random_state=42)\n",
    "\n",
    "for train_idx, test_idx in sss.split(features, y):\n",
    "    \n",
    "    X_train, X_test = features[train_idx], features[test_idx]\n",
    "    \n",
    "    y_train, y_test = y[train_idx], y[test_idx]"
   ]
  },
  {
   "cell_type": "code",
   "execution_count": 11,
   "metadata": {
    "collapsed": true
   },
   "outputs": [],
   "source": [
    "dtrain = xgb.DMatrix(X_train, label=y_train)\n",
    "dtest = xgb.DMatrix(X_test, label=y_test)"
   ]
  },
  {
   "cell_type": "code",
   "execution_count": 12,
   "metadata": {
    "collapsed": false
   },
   "outputs": [
    {
     "name": "stdout",
     "output_type": "stream",
     "text": [
      "[0]\ttrain-error:0.228604\teval-error:0.239583\n",
      "Multiple eval metrics have been passed: 'eval-error' will be used for early stopping.\n",
      "\n",
      "Will train until eval-error hasn't improved in 10 rounds.\n",
      "[1]\ttrain-error:0.16174\teval-error:0.167511\n",
      "[2]\ttrain-error:0.146537\teval-error:0.150619\n",
      "[3]\ttrain-error:0.128308\teval-error:0.13232\n",
      "[4]\ttrain-error:0.117399\teval-error:0.118806\n",
      "[5]\ttrain-error:0.10663\teval-error:0.115146\n",
      "[6]\ttrain-error:0.098888\teval-error:0.105293\n",
      "[7]\ttrain-error:0.094313\teval-error:0.103885\n",
      "[8]\ttrain-error:0.085797\teval-error:0.10107\n",
      "[9]\ttrain-error:0.081855\teval-error:0.094032\n",
      "[10]\ttrain-error:0.076788\teval-error:0.091498\n",
      "[11]\ttrain-error:0.073902\teval-error:0.091216\n",
      "[12]\ttrain-error:0.070524\teval-error:0.086712\n",
      "[13]\ttrain-error:0.070242\teval-error:0.08643\n",
      "[14]\ttrain-error:0.06616\teval-error:0.081081\n",
      "[15]\ttrain-error:0.063626\teval-error:0.081363\n",
      "[16]\ttrain-error:0.0625\teval-error:0.080518\n",
      "[17]\ttrain-error:0.058488\teval-error:0.0808\n",
      "[18]\ttrain-error:0.057151\teval-error:0.077703\n",
      "[19]\ttrain-error:0.055321\teval-error:0.077421\n",
      "[20]\ttrain-error:0.05328\teval-error:0.074043\n",
      "[21]\ttrain-error:0.052294\teval-error:0.07348\n",
      "[22]\ttrain-error:0.04962\teval-error:0.074324\n",
      "[23]\ttrain-error:0.048705\teval-error:0.072635\n",
      "[24]\ttrain-error:0.048072\teval-error:0.073198\n",
      "[25]\ttrain-error:0.046805\teval-error:0.071791\n",
      "[26]\ttrain-error:0.045115\teval-error:0.069257\n",
      "[27]\ttrain-error:0.042934\teval-error:0.072635\n",
      "[28]\ttrain-error:0.0423\teval-error:0.072354\n",
      "[29]\ttrain-error:0.040048\teval-error:0.071791\n",
      "[30]\ttrain-error:0.040541\teval-error:0.069538\n",
      "[31]\ttrain-error:0.037584\teval-error:0.066723\n",
      "[32]\ttrain-error:0.036247\teval-error:0.066723\n",
      "[33]\ttrain-error:0.035684\teval-error:0.06616\n",
      "[34]\ttrain-error:0.034417\teval-error:0.065878\n",
      "[35]\ttrain-error:0.033502\teval-error:0.064189\n",
      "[36]\ttrain-error:0.032798\teval-error:0.064189\n",
      "[37]\ttrain-error:0.030898\teval-error:0.063626\n",
      "[38]\ttrain-error:0.030476\teval-error:0.061374\n",
      "[39]\ttrain-error:0.02949\teval-error:0.061655\n",
      "[40]\ttrain-error:0.028364\teval-error:0.059966\n",
      "[41]\ttrain-error:0.027872\teval-error:0.059403\n",
      "[42]\ttrain-error:0.026605\teval-error:0.059966\n",
      "[43]\ttrain-error:0.02576\teval-error:0.057995\n",
      "[44]\ttrain-error:0.024845\teval-error:0.057995\n",
      "[45]\ttrain-error:0.02386\teval-error:0.056869\n",
      "[46]\ttrain-error:0.022452\teval-error:0.056588\n",
      "[47]\ttrain-error:0.021044\teval-error:0.055743\n",
      "[48]\ttrain-error:0.020904\teval-error:0.055462\n",
      "[49]\ttrain-error:0.020763\teval-error:0.054054\n",
      "[50]\ttrain-error:0.020341\teval-error:0.054054\n",
      "[51]\ttrain-error:0.019566\teval-error:0.053491\n",
      "[52]\ttrain-error:0.018651\teval-error:0.053209\n",
      "[53]\ttrain-error:0.018722\teval-error:0.053773\n",
      "[54]\ttrain-error:0.018018\teval-error:0.05518\n",
      "[55]\ttrain-error:0.017807\teval-error:0.054054\n",
      "[56]\ttrain-error:0.016399\teval-error:0.052646\n",
      "[57]\ttrain-error:0.016258\teval-error:0.052646\n",
      "[58]\ttrain-error:0.015695\teval-error:0.052646\n",
      "[59]\ttrain-error:0.014288\teval-error:0.053491\n",
      "[60]\ttrain-error:0.014077\teval-error:0.054054\n",
      "[61]\ttrain-error:0.013654\teval-error:0.054617\n",
      "[62]\ttrain-error:0.013021\teval-error:0.053209\n",
      "[63]\ttrain-error:0.012106\teval-error:0.052083\n",
      "[64]\ttrain-error:0.011754\teval-error:0.050957\n",
      "[65]\ttrain-error:0.011543\teval-error:0.051802\n",
      "[66]\ttrain-error:0.010909\teval-error:0.050957\n",
      "[67]\ttrain-error:0.011191\teval-error:0.052365\n",
      "[68]\ttrain-error:0.009924\teval-error:0.05152\n",
      "[69]\ttrain-error:0.009572\teval-error:0.051802\n",
      "[70]\ttrain-error:0.009431\teval-error:0.050676\n",
      "[71]\ttrain-error:0.008657\teval-error:0.049831\n",
      "[72]\ttrain-error:0.008587\teval-error:0.050394\n",
      "[73]\ttrain-error:0.007672\teval-error:0.050676\n",
      "[74]\ttrain-error:0.007883\teval-error:0.050676\n",
      "[75]\ttrain-error:0.006264\teval-error:0.049268\n",
      "[76]\ttrain-error:0.006334\teval-error:0.049268\n",
      "[77]\ttrain-error:0.006194\teval-error:0.048986\n",
      "[78]\ttrain-error:0.005912\teval-error:0.048986\n",
      "[79]\ttrain-error:0.005842\teval-error:0.047579\n",
      "[80]\ttrain-error:0.005279\teval-error:0.047297\n",
      "[81]\ttrain-error:0.004575\teval-error:0.048142\n",
      "[82]\ttrain-error:0.004575\teval-error:0.047579\n",
      "[83]\ttrain-error:0.004293\teval-error:0.04786\n",
      "[84]\ttrain-error:0.004082\teval-error:0.048423\n",
      "[85]\ttrain-error:0.004012\teval-error:0.048142\n",
      "[86]\ttrain-error:0.003801\teval-error:0.04786\n",
      "[87]\ttrain-error:0.00373\teval-error:0.04786\n",
      "[88]\ttrain-error:0.003378\teval-error:0.048423\n",
      "[89]\ttrain-error:0.003308\teval-error:0.048705\n",
      "[90]\ttrain-error:0.002956\teval-error:0.046171\n",
      "[91]\ttrain-error:0.002745\teval-error:0.046453\n",
      "[92]\ttrain-error:0.002393\teval-error:0.045045\n",
      "[93]\ttrain-error:0.001971\teval-error:0.044482\n",
      "[94]\ttrain-error:0.002111\teval-error:0.043637\n",
      "[95]\ttrain-error:0.00183\teval-error:0.043356\n",
      "[96]\ttrain-error:0.001689\teval-error:0.043356\n",
      "[97]\ttrain-error:0.001408\teval-error:0.042793\n",
      "[98]\ttrain-error:0.001337\teval-error:0.043074\n",
      "[99]\ttrain-error:0.001056\teval-error:0.043074\n",
      "[100]\ttrain-error:0.000845\teval-error:0.042511\n",
      "[101]\ttrain-error:0.000563\teval-error:0.042793\n",
      "[102]\ttrain-error:0.000563\teval-error:0.043637\n",
      "[103]\ttrain-error:0.000493\teval-error:0.042511\n",
      "[104]\ttrain-error:0.000563\teval-error:0.04223\n",
      "[105]\ttrain-error:0.000422\teval-error:0.041385\n",
      "[106]\ttrain-error:0.000493\teval-error:0.04223\n",
      "[107]\ttrain-error:0.000422\teval-error:0.04223\n",
      "[108]\ttrain-error:0.000352\teval-error:0.043356\n",
      "[109]\ttrain-error:0.000422\teval-error:0.041948\n",
      "[110]\ttrain-error:0.000422\teval-error:0.041667\n",
      "[111]\ttrain-error:0.000282\teval-error:0.041948\n",
      "[112]\ttrain-error:0.000141\teval-error:0.041104\n",
      "[113]\ttrain-error:0.000141\teval-error:0.041104\n",
      "[114]\ttrain-error:0.000211\teval-error:0.041948\n",
      "[115]\ttrain-error:0.000211\teval-error:0.041104\n",
      "[116]\ttrain-error:0.000211\teval-error:0.040822\n",
      "[117]\ttrain-error:0.000211\teval-error:0.04223\n",
      "[118]\ttrain-error:0.000141\teval-error:0.041104\n",
      "[119]\ttrain-error:0.000211\teval-error:0.041667\n",
      "[120]\ttrain-error:0.000141\teval-error:0.039977\n",
      "[121]\ttrain-error:0.000141\teval-error:0.039414\n",
      "[122]\ttrain-error:0.000141\teval-error:0.039696\n",
      "[123]\ttrain-error:7e-05\teval-error:0.039414\n",
      "[124]\ttrain-error:7e-05\teval-error:0.039133\n",
      "[125]\ttrain-error:7e-05\teval-error:0.038288\n",
      "[126]\ttrain-error:7e-05\teval-error:0.03857\n",
      "[127]\ttrain-error:7e-05\teval-error:0.038007\n",
      "[128]\ttrain-error:7e-05\teval-error:0.037725\n",
      "[129]\ttrain-error:7e-05\teval-error:0.039414\n",
      "[130]\ttrain-error:7e-05\teval-error:0.039133\n",
      "[131]\ttrain-error:7e-05\teval-error:0.038851\n",
      "[132]\ttrain-error:7e-05\teval-error:0.037444\n",
      "[133]\ttrain-error:7e-05\teval-error:0.037725\n",
      "[134]\ttrain-error:0\teval-error:0.037725\n",
      "[135]\ttrain-error:0\teval-error:0.038007\n",
      "[136]\ttrain-error:0\teval-error:0.037444\n",
      "[137]\ttrain-error:0\teval-error:0.037162\n",
      "[138]\ttrain-error:0\teval-error:0.038288\n",
      "[139]\ttrain-error:0\teval-error:0.038288\n",
      "[140]\ttrain-error:0\teval-error:0.037162\n",
      "[141]\ttrain-error:0\teval-error:0.036881\n",
      "[142]\ttrain-error:0\teval-error:0.037162\n",
      "[143]\ttrain-error:0\teval-error:0.037444\n",
      "[144]\ttrain-error:0\teval-error:0.036599\n",
      "[145]\ttrain-error:0\teval-error:0.037162\n",
      "[146]\ttrain-error:0\teval-error:0.036318\n",
      "[147]\ttrain-error:0\teval-error:0.036036\n",
      "[148]\ttrain-error:0\teval-error:0.036318\n",
      "[149]\ttrain-error:0\teval-error:0.037162\n",
      "[150]\ttrain-error:0\teval-error:0.038288\n",
      "[151]\ttrain-error:0\teval-error:0.036881\n",
      "[152]\ttrain-error:0\teval-error:0.036599\n",
      "[153]\ttrain-error:0\teval-error:0.036881\n",
      "[154]\ttrain-error:0\teval-error:0.037162\n"
     ]
    }
   ],
   "source": [
    "param = {'max_depth':2, 'eta':1, 'silent':1, 'objective':'binary:logistic', 'colsample_bytree':0.6}\n",
    "watchlist  = [(dtrain,'train'), (dtest,'eval')]\n",
    "num_round = 155\n",
    "bst = xgb.train(param, dtrain, num_round, watchlist, early_stopping_rounds=10)"
   ]
  },
  {
   "cell_type": "code",
   "execution_count": 13,
   "metadata": {
    "collapsed": false
   },
   "outputs": [
    {
     "data": {
      "text/plain": [
       "0.96283783783783783"
      ]
     },
     "execution_count": 13,
     "metadata": {},
     "output_type": "execute_result"
    }
   ],
   "source": [
    "pred = bst.predict(dtest)\n",
    "predictions = (pred > 0.5) * 1\n",
    "\n",
    "from sklearn.metrics import accuracy_score\n",
    "accuracy_score(y_test, predictions)"
   ]
  },
  {
   "cell_type": "code",
   "execution_count": 14,
   "metadata": {
    "collapsed": true
   },
   "outputs": [],
   "source": [
    "bst.save_model(\"xgb.model\")"
   ]
  },
  {
   "cell_type": "code",
   "execution_count": null,
   "metadata": {
    "collapsed": true
   },
   "outputs": [],
   "source": []
  }
 ],
 "metadata": {
  "anaconda-cloud": {},
  "kernelspec": {
   "display_name": "Python [conda root]",
   "language": "python",
   "name": "conda-root-py"
  },
  "language_info": {
   "codemirror_mode": {
    "name": "ipython",
    "version": 3
   },
   "file_extension": ".py",
   "mimetype": "text/x-python",
   "name": "python",
   "nbconvert_exporter": "python",
   "pygments_lexer": "ipython3",
   "version": "3.5.2"
  }
 },
 "nbformat": 4,
 "nbformat_minor": 2
}
